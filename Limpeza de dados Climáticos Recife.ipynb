{
 "cells": [
  {
   "cell_type": "code",
   "execution_count": 12,
   "id": "c6ec9cff",
   "metadata": {},
   "outputs": [],
   "source": [
    "import pandas as pd\n",
    "import matplotlib.pyplot as plt"
   ]
  },
  {
   "cell_type": "code",
   "execution_count": 13,
   "id": "432c9045",
   "metadata": {
    "scrolled": true
   },
   "outputs": [
    {
     "data": {
      "text/html": [
       "<div>\n",
       "<style scoped>\n",
       "    .dataframe tbody tr th:only-of-type {\n",
       "        vertical-align: middle;\n",
       "    }\n",
       "\n",
       "    .dataframe tbody tr th {\n",
       "        vertical-align: top;\n",
       "    }\n",
       "\n",
       "    .dataframe thead th {\n",
       "        text-align: right;\n",
       "    }\n",
       "</style>\n",
       "<table border=\"1\" class=\"dataframe\">\n",
       "  <thead>\n",
       "    <tr style=\"text-align: right;\">\n",
       "      <th></th>\n",
       "      <th>Data Medicao</th>\n",
       "      <th>PRECIPITACAO TOTAL,DIARIO (AUT)(mm)</th>\n",
       "      <th>TEMPERATURA MAXIMA,DIARIA (AUT)(°C)</th>\n",
       "      <th>TEMPERATURA MEDIA,DIARIA (AUT)(°C)</th>\n",
       "      <th>TEMPERATURA MINIMA,DIARIA (AUT)(°C)</th>\n",
       "      <th>VENTO,VELOCIDADE MEDIA DIARIA (AUT)(m/s)</th>\n",
       "      <th>Unnamed: 6</th>\n",
       "    </tr>\n",
       "  </thead>\n",
       "  <tbody>\n",
       "    <tr>\n",
       "      <th>0</th>\n",
       "      <td>2004-12-21</td>\n",
       "      <td>NaN</td>\n",
       "      <td>29,2</td>\n",
       "      <td>NaN</td>\n",
       "      <td>NaN</td>\n",
       "      <td>NaN</td>\n",
       "      <td>,,,,</td>\n",
       "    </tr>\n",
       "    <tr>\n",
       "      <th>1</th>\n",
       "      <td>2004-12-22</td>\n",
       "      <td>NaN</td>\n",
       "      <td>NaN</td>\n",
       "      <td>NaN</td>\n",
       "      <td>NaN</td>\n",
       "      <td>NaN</td>\n",
       "      <td>,,,,,</td>\n",
       "    </tr>\n",
       "    <tr>\n",
       "      <th>2</th>\n",
       "      <td>2004-12-23</td>\n",
       "      <td>NaN</td>\n",
       "      <td>31,4</td>\n",
       "      <td>NaN</td>\n",
       "      <td>24,5</td>\n",
       "      <td>NaN</td>\n",
       "      <td>,,,</td>\n",
       "    </tr>\n",
       "    <tr>\n",
       "      <th>3</th>\n",
       "      <td>2004-12-24</td>\n",
       "      <td>NaN</td>\n",
       "      <td>31,2</td>\n",
       "      <td>27,5</td>\n",
       "      <td>23</td>\n",
       "      <td>3,154545</td>\n",
       "      <td>,,</td>\n",
       "    </tr>\n",
       "    <tr>\n",
       "      <th>4</th>\n",
       "      <td>2004-12-25</td>\n",
       "      <td>NaN</td>\n",
       "      <td>30,9</td>\n",
       "      <td>27,166667</td>\n",
       "      <td>24,2</td>\n",
       "      <td>2,883333</td>\n",
       "      <td>,</td>\n",
       "    </tr>\n",
       "  </tbody>\n",
       "</table>\n",
       "</div>"
      ],
      "text/plain": [
       "  Data Medicao PRECIPITACAO TOTAL,DIARIO (AUT)(mm)  \\\n",
       "0   2004-12-21                                 NaN   \n",
       "1   2004-12-22                                 NaN   \n",
       "2   2004-12-23                                 NaN   \n",
       "3   2004-12-24                                 NaN   \n",
       "4   2004-12-25                                 NaN   \n",
       "\n",
       "  TEMPERATURA MAXIMA,DIARIA (AUT)(°C) TEMPERATURA MEDIA,DIARIA (AUT)(°C)  \\\n",
       "0                                29,2                                NaN   \n",
       "1                                 NaN                                NaN   \n",
       "2                                31,4                                NaN   \n",
       "3                                31,2                               27,5   \n",
       "4                                30,9                          27,166667   \n",
       "\n",
       "  TEMPERATURA MINIMA,DIARIA (AUT)(°C)  \\\n",
       "0                                 NaN   \n",
       "1                                 NaN   \n",
       "2                                24,5   \n",
       "3                                  23   \n",
       "4                                24,2   \n",
       "\n",
       "  VENTO,VELOCIDADE MEDIA DIARIA (AUT)(m/s) Unnamed: 6  \n",
       "0                                      NaN       ,,,,  \n",
       "1                                      NaN      ,,,,,  \n",
       "2                                      NaN        ,,,  \n",
       "3                                 3,154545         ,,  \n",
       "4                                 2,883333          ,  "
      ]
     },
     "execution_count": 13,
     "metadata": {},
     "output_type": "execute_result"
    }
   ],
   "source": [
    "df = pd.read_csv('dados.csv', sep = ';')\n",
    "df.head()"
   ]
  },
  {
   "cell_type": "code",
   "execution_count": 14,
   "id": "c053fbe9",
   "metadata": {},
   "outputs": [
    {
     "data": {
      "text/plain": [
       "(6586, 7)"
      ]
     },
     "execution_count": 14,
     "metadata": {},
     "output_type": "execute_result"
    }
   ],
   "source": [
    "df.shape"
   ]
  },
  {
   "cell_type": "code",
   "execution_count": 15,
   "id": "0ce34030",
   "metadata": {},
   "outputs": [
    {
     "name": "stdout",
     "output_type": "stream",
     "text": [
      "<class 'pandas.core.frame.DataFrame'>\n",
      "RangeIndex: 6586 entries, 0 to 6585\n",
      "Data columns (total 7 columns):\n",
      " #   Column                                    Non-Null Count  Dtype \n",
      "---  ------                                    --------------  ----- \n",
      " 0   Data Medicao                              6586 non-null   object\n",
      " 1   PRECIPITACAO TOTAL,DIARIO (AUT)(mm)       5593 non-null   object\n",
      " 2   TEMPERATURA MAXIMA,DIARIA (AUT)(°C)       5688 non-null   object\n",
      " 3   TEMPERATURA MEDIA,DIARIA (AUT)(°C)        5601 non-null   object\n",
      " 4   TEMPERATURA MINIMA,DIARIA (AUT)(°C)       5704 non-null   object\n",
      " 5   VENTO,VELOCIDADE MEDIA DIARIA (AUT)(m/s)  4640 non-null   object\n",
      " 6   Unnamed: 6                                4616 non-null   object\n",
      "dtypes: object(7)\n",
      "memory usage: 360.3+ KB\n"
     ]
    }
   ],
   "source": [
    "df.info()"
   ]
  },
  {
   "cell_type": "code",
   "execution_count": 16,
   "id": "fcfdd198",
   "metadata": {},
   "outputs": [],
   "source": [
    "df1 = df.dropna()"
   ]
  },
  {
   "cell_type": "code",
   "execution_count": 17,
   "id": "babf5fc4",
   "metadata": {},
   "outputs": [
    {
     "name": "stderr",
     "output_type": "stream",
     "text": [
      "C:\\Users\\carlo\\AppData\\Local\\Temp\\ipykernel_14896\\4204031920.py:1: SettingWithCopyWarning: \n",
      "A value is trying to be set on a copy of a slice from a DataFrame\n",
      "\n",
      "See the caveats in the documentation: https://pandas.pydata.org/pandas-docs/stable/user_guide/indexing.html#returning-a-view-versus-a-copy\n",
      "  df1.drop('Unnamed: 6', axis = 1, inplace = True)\n"
     ]
    }
   ],
   "source": [
    "df1.drop('Unnamed: 6', axis = 1, inplace = True)"
   ]
  },
  {
   "cell_type": "code",
   "execution_count": 18,
   "id": "e3b9fd04",
   "metadata": {},
   "outputs": [
    {
     "data": {
      "text/plain": [
       "(2598, 6)"
      ]
     },
     "execution_count": 18,
     "metadata": {},
     "output_type": "execute_result"
    }
   ],
   "source": [
    "df1.shape"
   ]
  },
  {
   "cell_type": "code",
   "execution_count": 19,
   "id": "5eab2a85",
   "metadata": {},
   "outputs": [
    {
     "data": {
      "text/html": [
       "<div>\n",
       "<style scoped>\n",
       "    .dataframe tbody tr th:only-of-type {\n",
       "        vertical-align: middle;\n",
       "    }\n",
       "\n",
       "    .dataframe tbody tr th {\n",
       "        vertical-align: top;\n",
       "    }\n",
       "\n",
       "    .dataframe thead th {\n",
       "        text-align: right;\n",
       "    }\n",
       "</style>\n",
       "<table border=\"1\" class=\"dataframe\">\n",
       "  <thead>\n",
       "    <tr style=\"text-align: right;\">\n",
       "      <th></th>\n",
       "      <th>Data Medicao</th>\n",
       "      <th>PRECIPITACAO TOTAL,DIARIO (AUT)(mm)</th>\n",
       "      <th>TEMPERATURA MAXIMA,DIARIA (AUT)(°C)</th>\n",
       "      <th>TEMPERATURA MEDIA,DIARIA (AUT)(°C)</th>\n",
       "      <th>TEMPERATURA MINIMA,DIARIA (AUT)(°C)</th>\n",
       "      <th>VENTO,VELOCIDADE MEDIA DIARIA (AUT)(m/s)</th>\n",
       "    </tr>\n",
       "  </thead>\n",
       "  <tbody>\n",
       "    <tr>\n",
       "      <th>12</th>\n",
       "      <td>2005-01-02</td>\n",
       "      <td>0</td>\n",
       "      <td>31,3</td>\n",
       "      <td>27,2375</td>\n",
       "      <td>21,6</td>\n",
       "      <td>2,441667</td>\n",
       "    </tr>\n",
       "    <tr>\n",
       "      <th>13</th>\n",
       "      <td>2005-01-03</td>\n",
       "      <td>0</td>\n",
       "      <td>31,2</td>\n",
       "      <td>27,816667</td>\n",
       "      <td>25,3</td>\n",
       "      <td>3,045833</td>\n",
       "    </tr>\n",
       "    <tr>\n",
       "      <th>16</th>\n",
       "      <td>2005-01-06</td>\n",
       "      <td>0</td>\n",
       "      <td>30,7</td>\n",
       "      <td>26,141667</td>\n",
       "      <td>20,1</td>\n",
       "      <td>2,55</td>\n",
       "    </tr>\n",
       "    <tr>\n",
       "      <th>17</th>\n",
       "      <td>2005-01-07</td>\n",
       "      <td>0</td>\n",
       "      <td>31,1</td>\n",
       "      <td>25,9875</td>\n",
       "      <td>20,4</td>\n",
       "      <td>1,833333</td>\n",
       "    </tr>\n",
       "    <tr>\n",
       "      <th>18</th>\n",
       "      <td>2005-01-08</td>\n",
       "      <td>5</td>\n",
       "      <td>31,6</td>\n",
       "      <td>26,666667</td>\n",
       "      <td>22,2</td>\n",
       "      <td>2,075</td>\n",
       "    </tr>\n",
       "  </tbody>\n",
       "</table>\n",
       "</div>"
      ],
      "text/plain": [
       "   Data Medicao PRECIPITACAO TOTAL,DIARIO (AUT)(mm)  \\\n",
       "12   2005-01-02                                   0   \n",
       "13   2005-01-03                                   0   \n",
       "16   2005-01-06                                   0   \n",
       "17   2005-01-07                                   0   \n",
       "18   2005-01-08                                   5   \n",
       "\n",
       "   TEMPERATURA MAXIMA,DIARIA (AUT)(°C) TEMPERATURA MEDIA,DIARIA (AUT)(°C)  \\\n",
       "12                                31,3                            27,2375   \n",
       "13                                31,2                          27,816667   \n",
       "16                                30,7                          26,141667   \n",
       "17                                31,1                            25,9875   \n",
       "18                                31,6                          26,666667   \n",
       "\n",
       "   TEMPERATURA MINIMA,DIARIA (AUT)(°C)  \\\n",
       "12                                21,6   \n",
       "13                                25,3   \n",
       "16                                20,1   \n",
       "17                                20,4   \n",
       "18                                22,2   \n",
       "\n",
       "   VENTO,VELOCIDADE MEDIA DIARIA (AUT)(m/s)  \n",
       "12                                 2,441667  \n",
       "13                                 3,045833  \n",
       "16                                     2,55  \n",
       "17                                 1,833333  \n",
       "18                                    2,075  "
      ]
     },
     "execution_count": 19,
     "metadata": {},
     "output_type": "execute_result"
    }
   ],
   "source": [
    "df1.head()"
   ]
  },
  {
   "cell_type": "code",
   "execution_count": 20,
   "id": "7ebd101f",
   "metadata": {
    "scrolled": true
   },
   "outputs": [
    {
     "data": {
      "text/html": [
       "<div>\n",
       "<style scoped>\n",
       "    .dataframe tbody tr th:only-of-type {\n",
       "        vertical-align: middle;\n",
       "    }\n",
       "\n",
       "    .dataframe tbody tr th {\n",
       "        vertical-align: top;\n",
       "    }\n",
       "\n",
       "    .dataframe thead th {\n",
       "        text-align: right;\n",
       "    }\n",
       "</style>\n",
       "<table border=\"1\" class=\"dataframe\">\n",
       "  <thead>\n",
       "    <tr style=\"text-align: right;\">\n",
       "      <th></th>\n",
       "      <th>Data</th>\n",
       "      <th>Prec_Total_Diária</th>\n",
       "      <th>Temp_Max_Diária</th>\n",
       "      <th>Temp_Med_Diária</th>\n",
       "      <th>Temp_Min_Diária</th>\n",
       "      <th>Vento_Med_Diária</th>\n",
       "    </tr>\n",
       "  </thead>\n",
       "  <tbody>\n",
       "    <tr>\n",
       "      <th>6164</th>\n",
       "      <td>2021-11-06</td>\n",
       "      <td>0</td>\n",
       "      <td>34,3</td>\n",
       "      <td>27,7875</td>\n",
       "      <td>22,4</td>\n",
       "      <td>1,654167</td>\n",
       "    </tr>\n",
       "    <tr>\n",
       "      <th>6165</th>\n",
       "      <td>2021-11-07</td>\n",
       "      <td>,2</td>\n",
       "      <td>33,6</td>\n",
       "      <td>28,729167</td>\n",
       "      <td>26</td>\n",
       "      <td>1,683333</td>\n",
       "    </tr>\n",
       "    <tr>\n",
       "      <th>6166</th>\n",
       "      <td>2021-11-08</td>\n",
       "      <td>0</td>\n",
       "      <td>32,9</td>\n",
       "      <td>28,033333</td>\n",
       "      <td>23,9</td>\n",
       "      <td>1,595833</td>\n",
       "    </tr>\n",
       "    <tr>\n",
       "      <th>6167</th>\n",
       "      <td>2021-11-09</td>\n",
       "      <td>0</td>\n",
       "      <td>32,9</td>\n",
       "      <td>27,508333</td>\n",
       "      <td>22,5</td>\n",
       "      <td>1,695833</td>\n",
       "    </tr>\n",
       "    <tr>\n",
       "      <th>6168</th>\n",
       "      <td>2021-11-10</td>\n",
       "      <td>0</td>\n",
       "      <td>32,1</td>\n",
       "      <td>27,616667</td>\n",
       "      <td>24,2</td>\n",
       "      <td>1,804167</td>\n",
       "    </tr>\n",
       "  </tbody>\n",
       "</table>\n",
       "</div>"
      ],
      "text/plain": [
       "            Data Prec_Total_Diária Temp_Max_Diária Temp_Med_Diária  \\\n",
       "6164  2021-11-06                 0            34,3         27,7875   \n",
       "6165  2021-11-07                ,2            33,6       28,729167   \n",
       "6166  2021-11-08                 0            32,9       28,033333   \n",
       "6167  2021-11-09                 0            32,9       27,508333   \n",
       "6168  2021-11-10                 0            32,1       27,616667   \n",
       "\n",
       "     Temp_Min_Diária Vento_Med_Diária  \n",
       "6164            22,4         1,654167  \n",
       "6165              26         1,683333  \n",
       "6166            23,9         1,595833  \n",
       "6167            22,5         1,695833  \n",
       "6168            24,2         1,804167  "
      ]
     },
     "execution_count": 20,
     "metadata": {},
     "output_type": "execute_result"
    }
   ],
   "source": [
    "data = df1.rename(columns={\"Data Medicao\": \"Data\", \n",
    "                    \"PRECIPITACAO TOTAL,DIARIO (AUT)(mm)\": \"Prec_Total_Diária\",\n",
    "                    \"TEMPERATURA MAXIMA,DIARIA (AUT)(°C)\": \"Temp_Max_Diária\",\n",
    "                    \"TEMPERATURA MEDIA,DIARIA (AUT)(°C)\": \"Temp_Med_Diária\", \n",
    "                    'TEMPERATURA MINIMA,DIARIA (AUT)(°C)': \"Temp_Min_Diária\", \n",
    "                    'VENTO,VELOCIDADE MEDIA DIARIA (AUT)(m/s)':'Vento_Med_Diária'})\n",
    "\n",
    "data.tail()"
   ]
  },
  {
   "cell_type": "code",
   "execution_count": 21,
   "id": "ea344f21",
   "metadata": {},
   "outputs": [],
   "source": [
    "dataframe = data.replace({',': '.'}, regex=True)"
   ]
  },
  {
   "cell_type": "code",
   "execution_count": 22,
   "id": "0a2e543d",
   "metadata": {},
   "outputs": [],
   "source": [
    "df_final = dataframe.astype({'Prec_Total_Diária': 'float',\n",
    "            'Temp_Max_Diária': 'float',\n",
    "            'Temp_Med_Diária': 'float',\n",
    "            'Temp_Min_Diária': 'float',\n",
    "            'Vento_Med_Diária': 'float'})\n",
    "\n",
    "df_final['Data'] = pd.to_datetime(df_final['Data'])\n"
   ]
  },
  {
   "cell_type": "code",
   "execution_count": 23,
   "id": "91aaf856",
   "metadata": {},
   "outputs": [],
   "source": [
    "#Exportar csv tratado\n",
    "\n",
    "df_final.to_csv(\"dados_clima_recife_2005_2021.csv\", index = False)"
   ]
  },
  {
   "cell_type": "code",
   "execution_count": null,
   "id": "129de39e",
   "metadata": {},
   "outputs": [],
   "source": []
  }
 ],
 "metadata": {
  "kernelspec": {
   "display_name": "Python 3 (ipykernel)",
   "language": "python",
   "name": "python3"
  },
  "language_info": {
   "codemirror_mode": {
    "name": "ipython",
    "version": 3
   },
   "file_extension": ".py",
   "mimetype": "text/x-python",
   "name": "python",
   "nbconvert_exporter": "python",
   "pygments_lexer": "ipython3",
   "version": "3.11.4"
  }
 },
 "nbformat": 4,
 "nbformat_minor": 5
}
